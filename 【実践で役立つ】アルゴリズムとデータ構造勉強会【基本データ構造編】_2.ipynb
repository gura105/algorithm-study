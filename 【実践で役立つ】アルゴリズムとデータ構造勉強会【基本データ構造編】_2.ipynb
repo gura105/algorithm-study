{
  "nbformat": 4,
  "nbformat_minor": 0,
  "metadata": {
    "colab": {
      "name": "【実践で役立つ】アルゴリズムとデータ構造勉強会【基本データ構造編】#2",
      "provenance": [],
      "collapsed_sections": [
        "IKFudwaMgG1A",
        "8vajIePPyzpd"
      ],
      "toc_visible": true,
      "authorship_tag": "ABX9TyM1kQ3wgE1lmhcIQ/EKLcro",
      "include_colab_link": true
    },
    "kernelspec": {
      "name": "python3",
      "display_name": "Python 3"
    }
  },
  "cells": [
    {
      "cell_type": "markdown",
      "metadata": {
        "id": "view-in-github",
        "colab_type": "text"
      },
      "source": [
        "<a href=\"https://colab.research.google.com/github/togo-yamanaka/algorithm-study/blob/master/%E3%80%90%E5%AE%9F%E8%B7%B5%E3%81%A7%E5%BD%B9%E7%AB%8B%E3%81%A4%E3%80%91%E3%82%A2%E3%83%AB%E3%82%B4%E3%83%AA%E3%82%BA%E3%83%A0%E3%81%A8%E3%83%87%E3%83%BC%E3%82%BF%E6%A7%8B%E9%80%A0%E5%8B%89%E5%BC%B7%E4%BC%9A%E3%80%90%E5%9F%BA%E6%9C%AC%E3%83%87%E3%83%BC%E3%82%BF%E6%A7%8B%E9%80%A0%E7%B7%A8%E3%80%91_2.ipynb\" target=\"_parent\"><img src=\"https://colab.research.google.com/assets/colab-badge.svg\" alt=\"Open In Colab\"/></a>"
      ]
    },
    {
      "cell_type": "markdown",
      "metadata": {
        "id": "nn6iQk_o_9YF"
      },
      "source": [
        "解答時間: 17min<br>\n",
        "解説時間:  8min<br>\n",
        "\n",
        "---\n",
        "\n",
        "- 問題には*論述*と*プログラミング*の2種類があります。\n",
        "  - 論述問題は解答欄に日本語を記載してください。(採点しないので厳密で無くて構いません)\n",
        "  - プログラミング問題は問題文の条件に従って実装・セルの実行を行ってください。\n",
        "- 解答欄以外にコードを書いて実験しても構いません。\n",
        "- すべて解く必要は無いので、まずは全体を確認して興味のある問題を解いてみましょう。\n"
      ]
    },
    {
      "cell_type": "markdown",
      "metadata": {
        "id": "Rr8-jFAj64Hn"
      },
      "source": [
        "#### 問1. 連結リストの要素取得(論述)\n",
        "\n",
        "---\n",
        "\n",
        "サイズがNの連結リストオブジェクト`c_list`において,`get(i)`をheadからスタートしてi番目の要素を取得するメソッドとします。このとき以下のコードの計算量を求めてください。\n",
        "\n",
        "```python\n",
        "for i in range(N):\n",
        "    print(c_list.get(i))\n",
        "```"
      ]
    },
    {
      "cell_type": "markdown",
      "metadata": {
        "id": "B_0s-JDp7EBT"
      },
      "source": [
        "問1 解答欄\n",
        "\n",
        "---\n",
        "\n",
        "(xxx)\n",
        "\n",
        "\n"
      ]
    },
    {
      "cell_type": "code",
      "metadata": {
        "id": "yi6Y5OE0_biQ"
      },
      "source": [
        ""
      ],
      "execution_count": null,
      "outputs": []
    },
    {
      "cell_type": "code",
      "metadata": {
        "id": "P8ISfqjv_cKr"
      },
      "source": [
        ""
      ],
      "execution_count": null,
      "outputs": []
    },
    {
      "cell_type": "markdown",
      "metadata": {
        "id": "DDQE-WnRClme"
      },
      "source": [
        "#### 問2. スタックとキューの実現(プログラミング)\n",
        "\n",
        "---\n",
        "\n",
        "連結リストを用いてスタックとキューを実現してください。<br>\n",
        "ただし下記の条件を満たすこと。\n",
        "\n",
        "- 連結リストは下記の`ChainList`クラスを用いること。\n",
        "- `ChainList`クラスは書き換えないこと。実行のみが許可される。\n",
        "- 解答用セルの`Stack`, `Queue`クラスを書き換えて実装すること。\n",
        "- 評価用セルを実行した際にassertionエラーを起こさない。\n",
        "  - -> `Stack`, `Queue`クラスの各メソッドは$O(1)$で実行される必要がある\n",
        "- 評価用セルの内容は書き換えない。実行のみが許可される。\n"
      ]
    },
    {
      "cell_type": "markdown",
      "metadata": {
        "id": "IKFudwaMgG1A"
      },
      "source": [
        "##### **ヒント1**↓"
      ]
    },
    {
      "cell_type": "markdown",
      "metadata": {
        "id": "mrZMHY16gMnc"
      },
      "source": [
        "`ChainList`の細かな実装を読み解く必要はない。<br>連結リストの概念及び各メソッドの実行結果のみを把握すれば`Stack`, `Queue`の実装は可能である。"
      ]
    },
    {
      "cell_type": "markdown",
      "metadata": {
        "id": "8vajIePPyzpd"
      },
      "source": [
        "##### **ヒント2**↓"
      ]
    },
    {
      "cell_type": "markdown",
      "metadata": {
        "id": "mGmhpS4EzBPP"
      },
      "source": [
        "- Stackは連結リストの先頭、Queueは連結リストの先頭と最後尾にしかアクセスしない\n",
        "- よってStack, Queueは連結リストの先頭と最後尾を指し示すインスタンス変数があると、$O(1)$でアクセスできる"
      ]
    },
    {
      "cell_type": "markdown",
      "metadata": {
        "id": "rCEt49_biRyT"
      },
      "source": [
        "##### 解答"
      ]
    },
    {
      "cell_type": "code",
      "metadata": {
        "id": "j0XS93ZqO80J"
      },
      "source": [
        "# 連結リスト(ChainList)\n",
        "\n",
        "from typing import Union\n",
        "\n",
        "class Node:\n",
        "    \"\"\"\"連結リストのノードクラス\"\"\"\n",
        "\n",
        "    def __init__(self, value: Union[int, None]):\n",
        "        self.value = value\n",
        "        self.next = None\n",
        "\n",
        "    def __repr__(self):\n",
        "        return f'Node({self.value}, next_existance={isinstance(self.next, Node)})'\n",
        "\n",
        "class ChainList:\n",
        "    \"\"\"連結リストクラス\"\"\"\n",
        "\n",
        "    def __init__(self) -> None:\n",
        "        self._head=Node(None)\n",
        "        self._head.next='\\0'\n",
        "\n",
        "    def insert(self, forward_node: Node, value: int) -> Node:\n",
        "        \"\"\"forward_nodeの次に要素valueを挿入する\"\"\"\n",
        "        target_node = Node(value)\n",
        "    \n",
        "        backward_node = forward_node.next\n",
        "        forward_node.next = target_node\n",
        "        target_node.next = backward_node\n",
        "        return target_node\n",
        "\n",
        "    def delete(self, forward_node: Node) -> None:\n",
        "        \"\"\"forward_nodeの次のnodeを削除する\"\"\"\n",
        "        target_node = forward_node.next\n",
        "        forward_node.next = target_node.next\n",
        "        del target_node"
      ],
      "execution_count": 1,
      "outputs": []
    },
    {
      "cell_type": "code",
      "metadata": {
        "id": "MiNKRqH7zi-q"
      },
      "source": [
        "# 解答用セル\n",
        "\n",
        "class Stack:\n",
        "    \"\"\"\n",
        "    スタックを実現するクラス\n",
        "    下記はサンプルのために組み込みリストを使って実装している\n",
        "    \"\"\"\n",
        "\n",
        "    def __init__(self):\n",
        "        self._inner_list = []\n",
        "\n",
        "    def push(self, value: int) -> None:\n",
        "        \"\"\"push操作\"\"\"\n",
        "        self._inner_list.append(value)\n",
        "\n",
        "    def pop(self) -> int:\n",
        "        \"\"\"pop操作\"\"\"\n",
        "        return self._inner_list.pop(len(self._inner_list)-1)\n",
        "\n",
        "\n",
        "class Queue:\n",
        "    \"\"\"\n",
        "    キューを実現するクラス\n",
        "    下記はサンプルのために組み込みリストを使って実装している\n",
        "    (そのため、本来のキューよりもdequeueの時間計算量が多い)\n",
        "    \"\"\"\n",
        "\n",
        "    def __init__(self):\n",
        "        self._inner_list = []\n",
        "\n",
        "    def enqueue(self, value: int) -> None:\n",
        "        \"\"\"enqueue(格納)操作\"\"\"\n",
        "        self._inner_list.append(value)\n",
        "\n",
        "    def dequeue(self) -> int:\n",
        "        \"\"\"dequeue(取り出し)操作\"\"\"\n",
        "        return self._inner_list.pop(0)"
      ],
      "execution_count": null,
      "outputs": []
    },
    {
      "cell_type": "markdown",
      "metadata": {
        "id": "tx7pSex807mD"
      },
      "source": [
        "##### 採点\n",
        "\n",
        "---\n",
        "\n",
        "解答用セルへの実装が完了したら評価用セルを実行してください"
      ]
    },
    {
      "cell_type": "code",
      "metadata": {
        "id": "k2zEFHVMEoCI"
      },
      "source": [
        "# 評価用セル\n",
        "# !!!!!!内容は書き換えない!!!!!!\n",
        "\n",
        "###################################################\n",
        "# ↓テストセットアップ開始\n",
        "import timeit\n",
        "\n",
        "def print_results(count, results):\n",
        "    avg_iteration = sum(results) / len(results)\n",
        "    print(f'データ量-> {count:>5,} 実計算時間-> {avg_iteration:.6f}s')\n",
        "    return count, avg_iteration\n",
        "\n",
        "def print_delta(before, after):\n",
        "    before_count, before_time = before\n",
        "    after_count, after_time = after\n",
        "    growth = 1 + (after_count - before_count) / before_count\n",
        "    slowdown = 1 + (after_time - before_time) / before_time\n",
        "    print(f'データ増加量: {growth:>4.1f}　倍, 計算増加量: {slowdown:4.1f}　倍')\n",
        "\n",
        "    return growth, slowdown\n",
        "\n",
        "def stack_benchmark(count):\n",
        "    def run():\n",
        "        stack = Stack()\n",
        "        for i in range(count):\n",
        "            stack.push(i)\n",
        "\n",
        "        for i in range(count):\n",
        "            stack.pop()\n",
        "\n",
        "    results = timeit.repeat(\n",
        "        'run()',\n",
        "        globals=locals(),\n",
        "        repeat=1,\n",
        "        number=1\n",
        "    )\n",
        "    return print_results(count, results)\n",
        "\n",
        "def queue_benchmark(count):\n",
        "    def run():\n",
        "        queue = Queue()\n",
        "        for i in range(count):\n",
        "            queue.enqueue(i)\n",
        "\n",
        "        for i in range(count):\n",
        "            queue.dequeue()\n",
        "\n",
        "    results = timeit.repeat(\n",
        "        'run()',\n",
        "        globals=locals(),\n",
        "        repeat=1,\n",
        "        number=1\n",
        "    )\n",
        "    return print_results(count, results)\n",
        "\n",
        "# ↑テストセットアップ終わり\n",
        "###################################################\n",
        "\n",
        "base_cont = 100\n",
        "traial_counts = (1_000, 10_000, 100_000)\n",
        "\n",
        "print('スタック チェック 開始')\n",
        "baseline = stack_benchmark(base_cont)\n",
        "for count in traial_counts:\n",
        "    print()\n",
        "    comparison = stack_benchmark(count)\n",
        "    growth1, slowdown1 = print_delta(baseline, comparison)\n",
        "\n",
        "# O(n)以下の計算量でないとエラーになる\n",
        "assert slowdown1 / growth1 < 3\n",
        "\n",
        "print('スタック チェック クリア！')\n",
        "print('\\n\\n\\n')\n",
        "print('キュー チェック 開始')\n",
        "baseline = queue_benchmark(base_cont)\n",
        "for count in traial_counts:\n",
        "    print()\n",
        "    comparison = queue_benchmark(count)\n",
        "    growth2, slowdown2 = print_delta(baseline, comparison)\n",
        "\n",
        "# O(n)以下の計算量でないとエラーになる\n",
        "assert slowdown2 / growth2 < 3\n",
        "\n",
        "print('キュー チェック クリア！')"
      ],
      "execution_count": null,
      "outputs": []
    },
    {
      "cell_type": "markdown",
      "metadata": {
        "id": "RmImSRBvL_HD"
      },
      "source": [
        "#### 問3 Python標準ライブラリのキュー (プログラミング)\n",
        "\n",
        "---\n",
        "\n",
        "下記のソースコードはPythonの組み込みリストを使用して擬似的にキューを実現している。しかしリストの0番目の要素を`pop`するとリスト内の全要素が隣に移動する。結果、下記のコードの計算量は$O(N^2)$になる。<br>\n",
        "Pythonの標準ライブラリに存在する、正しくキューが再現できるデータ構造を調べて$O(N)$で実行できるようにコードを改善せよ。<br>\n",
        "ただし次の条件に従うこと。\n",
        "\n",
        "\n",
        "- 解答用セルを書き換える形で実装する。\n",
        "- 評価用セルを実行した際にassertionエラーを起こさない。\n",
        "- 評価用セルの内容は書き換えない。実行のみが許可される。\n",
        "\n",
        "```python\n",
        "import random\n",
        "\n",
        "queue = [random.randint(0, N) for _ in range(N)]\n",
        "for i in range(N):\n",
        "    # 配列の全データが移動する\n",
        "    queue.pop(0) \n",
        "```"
      ]
    },
    {
      "cell_type": "markdown",
      "metadata": {
        "id": "m-VpAa4g1Rod"
      },
      "source": [
        "##### 解答"
      ]
    },
    {
      "cell_type": "code",
      "metadata": {
        "id": "ftIFxilfL5Cu"
      },
      "source": [
        "# 解答用セル\n",
        "\n",
        "import random\n",
        "\n",
        "def queue_pop(N: int) -> None:\n",
        "    \"\"\"長さNのQueueを作成して、全て要素をpopする\"\"\"\n",
        "\n",
        "    # リストからQueueに書き換える\n",
        "    queue = [random.randint(0, N) for _ in range(N)]\n",
        "    for i in range(N):\n",
        "        queue.pop(0) "
      ],
      "execution_count": null,
      "outputs": []
    },
    {
      "cell_type": "markdown",
      "metadata": {
        "id": "REMe4lV21VcY"
      },
      "source": [
        "##### 採点\n",
        "\n",
        "---\n",
        "\n",
        "解答用セルへの実装が完了したら評価用セルを実行してください"
      ]
    },
    {
      "cell_type": "code",
      "metadata": {
        "id": "vf0yPqRRR5by"
      },
      "source": [
        "# 評価用セル\n",
        "# !!!!!!内容は書き換えない!!!!!!\n",
        "\n",
        "###################################################\n",
        "# ↓テストセットアップ開始\n",
        "import timeit\n",
        "\n",
        "def print_results(count, results):\n",
        "    avg_iteration = sum(results) / len(results)\n",
        "    print(f'データ量-> {count:>5,} 実計算時間-> {avg_iteration:.6f}s')\n",
        "    return count, avg_iteration\n",
        "\n",
        "def print_delta(before, after):\n",
        "    before_count, before_time = before\n",
        "    after_count, after_time = after\n",
        "    growth = 1 + (after_count - before_count) / before_count\n",
        "    slowdown = 1 + (after_time - before_time) / before_time\n",
        "    print(f'データ増加量: {growth:>4.1f}　倍, 計算増加量: {slowdown:4.1f}　倍')\n",
        "\n",
        "    return growth, slowdown\n",
        "\n",
        "def queue_benchmark(count):\n",
        "    def run():\n",
        "        queue_pop(count)\n",
        "\n",
        "    results = timeit.repeat(\n",
        "        'run()',\n",
        "        globals=locals(),\n",
        "        repeat=1,\n",
        "        number=1\n",
        "    )\n",
        "    return print_results(count, results)\n",
        "\n",
        "# ↑テストセットアップ終わり\n",
        "###################################################\n",
        "\n",
        "base_cont = 100\n",
        "traial_counts = (1_000, 10_000, 100_000)\n",
        "\n",
        "print('チェック 開始')\n",
        "baseline = queue_benchmark(base_cont)\n",
        "for count in traial_counts:\n",
        "    print()\n",
        "    comparison = queue_benchmark(count)\n",
        "    growth, slowdown = print_delta(baseline, comparison)\n",
        "\n",
        "# O(n)以下の計算量でないとエラーになる\n",
        "assert slowdown / growth < 3\n",
        "\n",
        "print('チェック クリア！')"
      ],
      "execution_count": null,
      "outputs": []
    },
    {
      "cell_type": "code",
      "metadata": {
        "id": "tSHOId4Pn8W4"
      },
      "source": [
        ""
      ],
      "execution_count": null,
      "outputs": []
    },
    {
      "cell_type": "code",
      "metadata": {
        "id": "xdGtZvOvllos"
      },
      "source": [
        ""
      ],
      "execution_count": null,
      "outputs": []
    },
    {
      "cell_type": "code",
      "metadata": {
        "id": "0NY_tHFDlov2"
      },
      "source": [
        ""
      ],
      "execution_count": null,
      "outputs": []
    }
  ]
}