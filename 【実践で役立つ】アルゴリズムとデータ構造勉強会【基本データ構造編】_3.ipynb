{
  "nbformat": 4,
  "nbformat_minor": 0,
  "metadata": {
    "colab": {
      "name": "【実践で役立つ】アルゴリズムとデータ構造勉強会【基本データ構造編】#3",
      "provenance": [],
      "collapsed_sections": [],
      "toc_visible": true,
      "authorship_tag": "ABX9TyMZiwiM73cvvF7VIeagRFfd",
      "include_colab_link": true
    },
    "kernelspec": {
      "name": "python3",
      "display_name": "Python 3"
    }
  },
  "cells": [
    {
      "cell_type": "markdown",
      "metadata": {
        "id": "view-in-github",
        "colab_type": "text"
      },
      "source": [
        "<a href=\"https://colab.research.google.com/github/togo-yamanaka/algorithm-study/blob/master/%E3%80%90%E5%AE%9F%E8%B7%B5%E3%81%A7%E5%BD%B9%E7%AB%8B%E3%81%A4%E3%80%91%E3%82%A2%E3%83%AB%E3%82%B4%E3%83%AA%E3%82%BA%E3%83%A0%E3%81%A8%E3%83%87%E3%83%BC%E3%82%BF%E6%A7%8B%E9%80%A0%E5%8B%89%E5%BC%B7%E4%BC%9A%E3%80%90%E5%9F%BA%E6%9C%AC%E3%83%87%E3%83%BC%E3%82%BF%E6%A7%8B%E9%80%A0%E7%B7%A8%E3%80%91_3.ipynb\" target=\"_parent\"><img src=\"https://colab.research.google.com/assets/colab-badge.svg\" alt=\"Open In Colab\"/></a>"
      ]
    },
    {
      "cell_type": "markdown",
      "metadata": {
        "id": "nn6iQk_o_9YF"
      },
      "source": [
        "解答時間: 17min<br>\n",
        "解説時間:  8min<br>\n",
        "\n",
        "---\n",
        "\n",
        "- 問題には*論述*と*プログラミング*の2種類があります。\n",
        "  - 論述問題は解答欄に日本語を記載してください。(採点しないので厳密で無くて構いません)\n",
        "  - プログラミング問題は問題文の条件に従って実装・セルの実行を行ってください。\n",
        "- 解答欄以外にコードを書いて実験しても構いません。\n",
        "- すべて解く必要は無いので、まずは全体を確認して興味のある問題を解いてみましょう。\n"
      ]
    },
    {
      "cell_type": "markdown",
      "metadata": {
        "id": "KuA3erHkEa6l"
      },
      "source": [
        "#### 問1 巡回セールスマン問題 (論述)\n",
        "\n",
        "---\n",
        "\n",
        "N個の都市を、好きな都市から出発してちょうど一度ずつすべての都市を訪れたい。所要時間が最短になる巡回を、全探索アルゴリズムで求める時の計算量を答えよ。"
      ]
    },
    {
      "cell_type": "markdown",
      "metadata": {
        "id": "UUKoDcI_EhL1"
      },
      "source": [
        "解答欄\n",
        "\n",
        "---\n",
        "\n",
        "xxx"
      ]
    },
    {
      "cell_type": "code",
      "metadata": {
        "id": "1SWgzLxjEYQD"
      },
      "source": [
        ""
      ],
      "execution_count": null,
      "outputs": []
    },
    {
      "cell_type": "code",
      "metadata": {
        "id": "Zh8BE2FqEWYE"
      },
      "source": [
        ""
      ],
      "execution_count": null,
      "outputs": []
    },
    {
      "cell_type": "markdown",
      "metadata": {
        "id": "kAKBciNXGoTo"
      },
      "source": [
        "#### 問2 全探索(プログラミング)\n",
        "\n",
        "---\n",
        "\n",
        "整数Nが与えられます。N以下の正の整数のうち、(先頭に0をつけずに十進法で表記したときの) 桁数が奇数であるようなものの個数を求めてください。\n",
        "\n",
        "- 解答用セル書き換える形で実装する。\n",
        "- 結果をprintできれば良い。"
      ]
    },
    {
      "cell_type": "markdown",
      "metadata": {
        "id": "1xIhP2RjHH9-"
      },
      "source": [
        "**解答**"
      ]
    },
    {
      "cell_type": "code",
      "metadata": {
        "id": "OslKprm2G6tl"
      },
      "source": [
        "# 解答用セル\n",
        "\n",
        "N = 100_000\n",
        "\n",
        "# some algorithm\n",
        "\n",
        "print(result)"
      ],
      "execution_count": null,
      "outputs": []
    },
    {
      "cell_type": "code",
      "metadata": {
        "id": "UKU7I65PSsOL"
      },
      "source": [
        ""
      ],
      "execution_count": null,
      "outputs": []
    },
    {
      "cell_type": "code",
      "metadata": {
        "id": "gt1PXRNkSsaM"
      },
      "source": [
        ""
      ],
      "execution_count": null,
      "outputs": []
    },
    {
      "cell_type": "markdown",
      "metadata": {
        "id": "DDQE-WnRClme"
      },
      "source": [
        "#### 問3. 全探索...?(プログラミング)\n",
        "\n",
        "---\n",
        "\n",
        "$N$個の整数$a_0$,$a_1$,...$a_{N-1}$のリストが与えられる。この中から2つの要素を選択して差を取る。その差の最大値を求める$O(N)$の関数を実装してください\n",
        "\n",
        "- 解答用セルの`search_max_diff`関数を書き換えて実装すること。\n",
        "- 評価用セルを実行した際にassertionエラーを起こさない。\n",
        "- 評価用セルの内容は書き換えない。実行のみが許可される。\n"
      ]
    },
    {
      "cell_type": "markdown",
      "metadata": {
        "id": "rCEt49_biRyT"
      },
      "source": [
        "##### 解答"
      ]
    },
    {
      "cell_type": "code",
      "metadata": {
        "id": "MiNKRqH7zi-q"
      },
      "source": [
        "# 解答用セル\n",
        "\n",
        "import itertools\n",
        "from typing import List\n",
        "\n",
        "\n",
        "def search_max_diff(target_list: List[int]):\n",
        "    \"\"\"\n",
        "    リストの要素間の差の最大値を求める\n",
        "    \n",
        "    下記の実装だと計算量が0(N^2)となるので不適\n",
        "    \"\"\"\n",
        "\n",
        "    # リストから2要素の組み合わせを全て列挙する\n",
        "    combinations = itertools.combinations(target_list, 2)\n",
        "\n",
        "    # 組み合わせた2つの数の差を列挙する\n",
        "    diff_list = [abs(item[0]-item[1]) for item in combinations]\n",
        "\n",
        "    # 差の集合から最大値を返す\n",
        "    return max(diff_list)"
      ],
      "execution_count": null,
      "outputs": []
    },
    {
      "cell_type": "markdown",
      "metadata": {
        "id": "tx7pSex807mD"
      },
      "source": [
        "##### 採点\n",
        "\n",
        "---\n",
        "\n",
        "解答用セルへの実装が完了したら評価用セルを実行してください"
      ]
    },
    {
      "cell_type": "code",
      "metadata": {
        "id": "k2zEFHVMEoCI"
      },
      "source": [
        "# 評価用セル\n",
        "# !!!!!!内容は書き換えない!!!!!!\n",
        "\n",
        "###################################################\n",
        "# ↓テストセットアップ1開始\n",
        "import random\n",
        "LARGE_NUM = 100_000_000\n",
        "\n",
        "list_for_search1 = [random.randint(0, LARGE_NUM) for _ in range(100)]\n",
        "list_for_search2 = [random.randint(0, LARGE_NUM) for _ in range(200)]\n",
        "# ↑テストセットアップ1終わり\n",
        "###################################################\n",
        "\n",
        "\n",
        "# チェック1: 意図した結果が帰ってくる\n",
        "print('チェック1 開始')\n",
        "assert search_max_diff(list_for_search1) == max(list_for_search1) - min(list_for_search1)\n",
        "assert search_max_diff(list_for_search2) == max(list_for_search2) - min(list_for_search2)\n",
        "print('チェック1 クリア！')\n",
        "\n",
        "\n",
        "###################################################\n",
        "# ↓テストセットアップ2開始\n",
        "import timeit\n",
        "import random\n",
        "\n",
        "def print_results(count, results):\n",
        "    avg_iteration = sum(results) / len(results)\n",
        "    print(f'データ量-> {count:>5,} 実計算時間-> {avg_iteration:.6f}s')\n",
        "    return count, avg_iteration\n",
        "\n",
        "def print_delta(before, after):\n",
        "    before_count, before_time = before\n",
        "    after_count, after_time = after\n",
        "    growth = 1 + (after_count - before_count) / before_count\n",
        "    slowdown = 1 + (after_time - before_time) / before_time\n",
        "    print(f'データ増加量: {growth:>4.1f}　倍, 計算増加量: {slowdown:4.1f}　倍')\n",
        "\n",
        "    return growth, slowdown\n",
        "\n",
        "def combination_benchmark(count):\n",
        "    def run():\n",
        "        list_for_search = [random.randint(0, LARGE_NUM) for _ in range(count)]\n",
        "        search_max_diff(list_for_search)\n",
        "\n",
        "    results = timeit.repeat(\n",
        "        'run()',\n",
        "        globals=locals(),\n",
        "        repeat=1,\n",
        "        number=1\n",
        "    )\n",
        "    return print_results(count, results)\n",
        "\n",
        "# ↑テストセットアップ2終わり\n",
        "###################################################\n",
        "\n",
        "\n",
        "# チェック2: 実行時間は基準内であるか\n",
        "base_cont = 100\n",
        "traial_counts = (1_000, 2_000, 3_000)\n",
        "\n",
        "print('チェック2 開始')\n",
        "baseline = combination_benchmark(base_cont)\n",
        "for count in traial_counts:\n",
        "    print()\n",
        "    comparison = combination_benchmark(count)\n",
        "    growth1, slowdown1 = print_delta(baseline, comparison)\n",
        "\n",
        "# O(n)以下の計算量でないとエラーになる\n",
        "assert slowdown1 / growth1 < 3\n",
        "\n",
        "print('チェック2 クリア！')"
      ],
      "execution_count": null,
      "outputs": []
    },
    {
      "cell_type": "markdown",
      "metadata": {
        "id": "RmImSRBvL_HD"
      },
      "source": [
        "#### 問4 区間スケジューリング問題 (プログラミング)\n",
        "\n",
        "---\n",
        "\n",
        "N個の仕事があり, $i(=0,1,...,N-1)$番目の仕事は時刻$s_i$に開始し、時刻$t_i$に終了します。これらの中から自分が行う仕事をできるだけ多く選びたいとします。ただし時刻が重なっている複数の仕事を選ぶことが出来ません。最大で何個の仕事をこなすことが出来るでしょう。\n",
        "\n",
        "\n",
        "- 解答用セルの`task_selector`関数を書き換える形で実装する。\n",
        "- 評価用セルを実行した際にassertionエラーを起こさない。\n",
        "- 評価用セルの内容は書き換えない。実行のみが許可される。\n"
      ]
    },
    {
      "cell_type": "markdown",
      "metadata": {
        "id": "m-VpAa4g1Rod"
      },
      "source": [
        "##### 解答"
      ]
    },
    {
      "cell_type": "code",
      "metadata": {
        "id": "ftIFxilfL5Cu",
        "colab": {
          "base_uri": "https://localhost:8080/"
        },
        "outputId": "511abd6c-175a-4d89-81ed-e3a1434d9a54"
      },
      "source": [
        "# 解答用セル\n",
        "\n",
        "from collections import namedtuple\n",
        "from typing import List\n",
        "\n",
        "# 仕事の開始時刻beginと終了時刻endを持つTaskクラスを作成\n",
        "Task = namedtuple('Task', ['begin', 'end'])\n",
        "# 仕事の候補task_listを作成\n",
        "task_list = [\n",
        "             Task(0, 6), Task(5, 7), Task(7, 10),\n",
        "             Task(3, 6), Task(4, 9), Task(0, 2),\n",
        "             Task(1, 2), Task(2, 4), Task(6, 9)\n",
        "            ]\n",
        "\n",
        "\n",
        "def task_selector(task_list: List[Task]):\n",
        "    \"\"\"\n",
        "    task_listから時間の重複無く、Task数が最大になるようなリストを返す\n",
        "    \n",
        "    下記のアルゴリズムでは結果が[Task(begin=0, end=6), Task(begin=7, end=10)]となり、仕事数が最大にならない\n",
        "    (正しくは[Task(begin=0, end=2), Task(begin=3, end=6), Task(begin=7, end=10)]である)\n",
        "    \"\"\"\n",
        "\n",
        "    # Taskを開始時刻beginで並び替え\n",
        "    task_list.sort(key= lambda x: x.begin)\n",
        "\n",
        "    # それぞれのTask区間がかぶらないようにresult_tasksに格納する\n",
        "    result_tasks = [task_list[0]]\n",
        "    for i in range(1, len(task_list)):\n",
        "        if result_tasks[-1].end < task_list[i].begin:\n",
        "            result_tasks.append(task_list[i])\n",
        "\n",
        "    return result_tasks\n",
        "\n",
        "\n",
        "# 結果を表示\n",
        "print(task_selector(task_list))"
      ],
      "execution_count": null,
      "outputs": [
        {
          "output_type": "stream",
          "text": [
            "[Task(begin=0, end=6), Task(begin=7, end=10)]\n"
          ],
          "name": "stdout"
        }
      ]
    },
    {
      "cell_type": "markdown",
      "metadata": {
        "id": "REMe4lV21VcY"
      },
      "source": [
        "##### 採点\n",
        "\n",
        "---\n",
        "\n",
        "解答用セルへの実装が完了したら評価用セルを実行してください"
      ]
    },
    {
      "cell_type": "code",
      "metadata": {
        "id": "vf0yPqRRR5by"
      },
      "source": [
        "# 評価用セル\n",
        "# !!!!!!内容は書き換えない!!!!!!\n",
        "\n",
        "from collections import namedtuple\n",
        "\n",
        "Task = namedtuple('Task', ['begin', 'end'])\n",
        "test_tasks = [\n",
        "             Task(0, 6),\n",
        "             Task(5, 7),\n",
        "             Task(7, 10),\n",
        "             Task(3, 6),\n",
        "             Task(4, 9),\n",
        "             Task(0, 2),\n",
        "             Task(1, 2),\n",
        "             Task(2, 4),\n",
        "             Task(6, 9)\n",
        "            ]\n",
        "\n",
        "print('チェックスタート')\n",
        "\n",
        "assert task_selector(test_tasks) == [Task(0, 2), Task(3, 6), Task(7, 10)]\n",
        "\n",
        "print('チェック完了')"
      ],
      "execution_count": null,
      "outputs": []
    },
    {
      "cell_type": "code",
      "metadata": {
        "id": "tSHOId4Pn8W4"
      },
      "source": [
        "}"
      ],
      "execution_count": null,
      "outputs": []
    },
    {
      "cell_type": "code",
      "metadata": {
        "id": "xdGtZvOvllos"
      },
      "source": [
        ""
      ],
      "execution_count": null,
      "outputs": []
    }
  ]
}