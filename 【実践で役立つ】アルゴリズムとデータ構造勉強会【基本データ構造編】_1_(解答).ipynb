{
  "nbformat": 4,
  "nbformat_minor": 0,
  "metadata": {
    "colab": {
      "name": "【実践で役立つ】アルゴリズムとデータ構造勉強会【基本データ構造編】#1 (解答)",
      "provenance": [],
      "collapsed_sections": [
        "IKFudwaMgG1A"
      ],
      "toc_visible": true,
      "authorship_tag": "ABX9TyMo7one/df2EZyLvojkQ6qe",
      "include_colab_link": true
    },
    "kernelspec": {
      "name": "python3",
      "display_name": "Python 3"
    }
  },
  "cells": [
    {
      "cell_type": "markdown",
      "metadata": {
        "id": "view-in-github",
        "colab_type": "text"
      },
      "source": [
        "<a href=\"https://colab.research.google.com/github/togo-yamanaka/algorithm-study/blob/master/%E3%80%90%E5%AE%9F%E8%B7%B5%E3%81%A7%E5%BD%B9%E7%AB%8B%E3%81%A4%E3%80%91%E3%82%A2%E3%83%AB%E3%82%B4%E3%83%AA%E3%82%BA%E3%83%A0%E3%81%A8%E3%83%87%E3%83%BC%E3%82%BF%E6%A7%8B%E9%80%A0%E5%8B%89%E5%BC%B7%E4%BC%9A%E3%80%90%E5%9F%BA%E6%9C%AC%E3%83%87%E3%83%BC%E3%82%BF%E6%A7%8B%E9%80%A0%E7%B7%A8%E3%80%91_1_(%E8%A7%A3%E7%AD%94).ipynb\" target=\"_parent\"><img src=\"https://colab.research.google.com/assets/colab-badge.svg\" alt=\"Open In Colab\"/></a>"
      ]
    },
    {
      "cell_type": "markdown",
      "metadata": {
        "id": "nn6iQk_o_9YF"
      },
      "source": [
        "解答時間: 17min<br>\n",
        "解説時間:  8min<br>\n",
        "\n",
        "---\n",
        "\n",
        "- 問題には*論述*と*プログラミング*の2種類があります。\n",
        "  - 論述問題は解答欄に日本語を記載してください。(採点しないので厳密で無くて構いません)\n",
        "  - プログラミング問題は問題文の条件に従って実装・セルの実行を行ってください。\n",
        "- 解答欄以外にコードを書いて実験しても構いません。\n",
        "- すべて解く必要は無いので、まずは全体を確認して興味のある問題を解いてみましょう。\n"
      ]
    },
    {
      "cell_type": "markdown",
      "metadata": {
        "id": "Rr8-jFAj64Hn"
      },
      "source": [
        "#### 問1. 年齢当てゲーム(論述)\n",
        "\n",
        "---\n",
        "\n",
        "年齢当てゲームで、A さんの年齢の候補が「O 歳以上 100 歳未満」の\n",
        "100 通り考えられるとします。<br>\n",
        "それを「Yes / Noで答えられる質問」を繰り返すことで当てたいとします。<br>\n",
        "6回の質問で確実に当てることは可能でしょうか。<br>\n",
        "また7回の質問で確実に当てることは可能でしょうか"
      ]
    },
    {
      "cell_type": "markdown",
      "metadata": {
        "id": "B_0s-JDp7EBT"
      },
      "source": [
        "問1 解答欄\n",
        "\n",
        "---\n",
        "\n",
        "6 回の質問によって区別できる状態の数は、2^6 = 64 通りです。よって、100 通りの場合の数を、6 回の質問によって区別することは不可能です。つまり、6 回の質問によって当てることはできません。\n",
        "\n",
        "7 回の質問によって当てることは可能です。\n",
        "\n",
        "\n"
      ]
    },
    {
      "cell_type": "code",
      "metadata": {
        "id": "vOvXwuiu_fWh"
      },
      "source": [
        ""
      ],
      "execution_count": null,
      "outputs": []
    },
    {
      "cell_type": "code",
      "metadata": {
        "id": "HmAwpHBX_f-Y"
      },
      "source": [
        ""
      ],
      "execution_count": null,
      "outputs": []
    },
    {
      "cell_type": "markdown",
      "metadata": {
        "id": "y7ppeH2272OD"
      },
      "source": [
        "#### 問2. 式 -> 計算量(論述)\n",
        "\n",
        "---\n",
        "\n",
        "以下の計算時間(入力サイズはN)をランダウのO記法を用いて示してください。\n",
        "\n",
        "1.) $T_1(N) = 1000N$\n",
        "\n",
        "2.) $T_2(N) = 5N^2 + 10N + 7$\n",
        "\n",
        "3.) $T_3(N) = 4N^2 + 3N\\sqrt{N}$\n",
        "\n",
        "4.) $T_4(N) = N\\sqrt{N} + 5N\\log N$\n",
        "\n",
        "5.) $T_5(N) = 2^N + N^{2019} $\n"
      ]
    },
    {
      "cell_type": "markdown",
      "metadata": {
        "id": "Wm_PCTx79ptT"
      },
      "source": [
        "問2 解答欄\n",
        "\n",
        "---\n",
        "\n",
        "1.) $T_1(N) = O(N)$\n",
        "\n",
        "2.) $T_2(N) = O(N^2)$\n",
        "\n",
        "3.) $T_3(N) = O(N^2)$\n",
        "\n",
        "4.) $T_4(N) = O(N\\sqrt{N})$\n",
        "\n",
        "5.) $T_5(N) = O(2^N) $\n",
        "\n",
        "\n"
      ]
    },
    {
      "cell_type": "code",
      "metadata": {
        "id": "yi6Y5OE0_biQ"
      },
      "source": [
        ""
      ],
      "execution_count": null,
      "outputs": []
    },
    {
      "cell_type": "code",
      "metadata": {
        "id": "P8ISfqjv_cKr"
      },
      "source": [
        ""
      ],
      "execution_count": null,
      "outputs": []
    },
    {
      "cell_type": "markdown",
      "metadata": {
        "id": "G8XPUhP891Gx"
      },
      "source": [
        "#### 問3　forループの計算量(論述)\n",
        "\n",
        "---\n",
        "\n",
        "以下の手続きの計算量を求め、ランダウのO記法を用いて表してください。<br>\n",
        "なおこの手続きは,N個のものから3個選ぶ方法をすべて列挙するものとなっています。\n",
        "\n",
        "```python\n",
        "for i in range(N):\n",
        "    for j in range(i + 1, N):\n",
        "        for k in range(j + 1, N):\n",
        "            # O(1)の処理\n",
        "```"
      ]
    },
    {
      "cell_type": "code",
      "metadata": {
        "id": "xwfQFYQakVIn"
      },
      "source": [
        "# サンプルコード。実行できます。\n",
        "\n",
        "N = 10\n",
        "\n",
        "for i in range(N):\n",
        "    for j in range(i + 1, N):\n",
        "        for k in range(j + 1, N):\n",
        "            # 各イテレーションにおけるi, j, kの値をプリントする\n",
        "            print(f'i = {i}, j = {j}, k = {k}')"
      ],
      "execution_count": null,
      "outputs": []
    },
    {
      "cell_type": "markdown",
      "metadata": {
        "id": "LLD81v8s_MAk"
      },
      "source": [
        "問3 解答欄\n",
        "\n",
        "---\n",
        "\n",
        "0 <= i < j < k < N を満たす (i, j, k) の組の個数を数え上げればよいでしょう。これは、N 個のものから 3 個を選ぶ場合の数に等しいので、\n",
        "\n",
        "$\n",
        "\\begin{eqnarray*}\n",
        "    && {}_N \\mathrm{C} _3 &=& \\frac{1}{6}N(N-1)(N-2) \\\\\n",
        "    && &=& \\frac{1}{6}(N^3-3N^2+2N)\n",
        "\\end{eqnarray*}\n",
        "$\n",
        "\n",
        "となります。よって、計算量は $O(N^3)$ と評価できます。"
      ]
    },
    {
      "cell_type": "code",
      "metadata": {
        "id": "tzGPZNo3-ziI"
      },
      "source": [
        ""
      ],
      "execution_count": null,
      "outputs": []
    },
    {
      "cell_type": "code",
      "metadata": {
        "id": "YGGNhdQW_kE3"
      },
      "source": [
        ""
      ],
      "execution_count": null,
      "outputs": []
    },
    {
      "cell_type": "markdown",
      "metadata": {
        "id": "DDQE-WnRClme"
      },
      "source": [
        "#### 問4. 探索に適したデータ構造(プログラミング)\n",
        "\n",
        "---\n",
        "\n",
        "下記のコードはNの値を増加させながら実行していくと実行時間が$O(N^2)$で増加していきます。<br>\n",
        "それは(*)で示される部分で線形探索を行っているからです。<br>\n",
        "解答用セルを修正することで探索時間を短縮してください。<br>\n",
        "ただし下記の条件を満たすこと。\n",
        "\n",
        "- 解答用セルの`search_func`関数に書き換える。\n",
        "- 評価用セルを実行した際にassertionエラーを起こさない。\n",
        "- 評価用セルの内容は書き換えない。実行のみが許可される。\n",
        "\n",
        "\n",
        "```python\n",
        "container = list(range(N))\n",
        "\n",
        "for i in range(N):\n",
        "    if i in container: # (*)線形探索部分\n",
        "        pass\n",
        "```"
      ]
    },
    {
      "cell_type": "markdown",
      "metadata": {
        "id": "IKFudwaMgG1A"
      },
      "source": [
        "##### *ヒント*↓"
      ]
    },
    {
      "cell_type": "markdown",
      "metadata": {
        "id": "mrZMHY16gMnc"
      },
      "source": [
        "変数`container`は配列(リスト)であるため、`i in container`では線形探索を行っている。<br>\n",
        "`container`のデータ構造を置き換えれば良い。"
      ]
    },
    {
      "cell_type": "markdown",
      "metadata": {
        "id": "rCEt49_biRyT"
      },
      "source": [
        "##### 解答"
      ]
    },
    {
      "cell_type": "code",
      "metadata": {
        "id": "hMtQuQh0En4i"
      },
      "source": [
        "# 解答用セル\n",
        "\n",
        "from typing import NoReturn\n",
        "\n",
        "def search_func(N: int) -> NoReturn:\n",
        "    \"\"\"下記の(?)部分を書き換えてください\"\"\"\n",
        "    container = list(range(N)) # (?)書き換え部分\n",
        "\n",
        "    for i in range(N):\n",
        "        if i in container: # (*)線形探索部分\n",
        "            pass"
      ],
      "execution_count": null,
      "outputs": []
    },
    {
      "cell_type": "code",
      "metadata": {
        "id": "TYoVY3ZPzs8U"
      },
      "source": [
        "# 答え\n",
        "\n",
        "from typing import NoReturn\n",
        "\n",
        "def search_func(N: int) -> NoReturn:\n",
        "    \"\"\"下記の(?)部分を書き換えてください\"\"\"\n",
        "    # set()関数はコンテナ型を集合型に変換する\n",
        "    # 集合型はハッシュテーブルで構成されている\n",
        "    container = set(range(N))\n",
        "\n",
        "    for i in range(N):\n",
        "        if i in container: # (*)線形探索部分\n",
        "            pass"
      ],
      "execution_count": null,
      "outputs": []
    },
    {
      "cell_type": "markdown",
      "metadata": {
        "id": "tx7pSex807mD"
      },
      "source": [
        "##### 採点\n",
        "\n",
        "---\n",
        "\n",
        "解答用セルへの実装が完了したら評価用セルを実行してください"
      ]
    },
    {
      "cell_type": "code",
      "metadata": {
        "id": "k2zEFHVMEoCI",
        "colab": {
          "base_uri": "https://localhost:8080/",
          "height": 519
        },
        "outputId": "43ebb2ed-b07e-4431-d2ef-393617847fb9"
      },
      "source": [
        "# 評価用セル\n",
        "# !!!!!!内容は書き換えない!!!!!!\n",
        "\n",
        "###################################################\n",
        "# ↓テストセットアップ開始\n",
        "import timeit\n",
        "\n",
        "def print_results(count, results):\n",
        "    avg_iteration = sum(results) / len(results)\n",
        "    print(f'データ量-> {count:>5,} 実計算時間-> {avg_iteration:.6f}s')\n",
        "    return count, avg_iteration\n",
        "\n",
        "def print_delta(before, after):\n",
        "    before_count, before_time = before\n",
        "    after_count, after_time = after\n",
        "    growth = 1 + (after_count - before_count) / before_count\n",
        "    slowdown = 1 + (after_time - before_time) / before_time\n",
        "    print(f'データ増加量: {growth:>4.1f}　倍, 計算増加量: {slowdown:4.1f}　倍')\n",
        "\n",
        "    return growth, slowdown\n",
        "\n",
        "def search_benchmark(count):\n",
        "    def run():\n",
        "        search_func(count)\n",
        "\n",
        "    results = timeit.repeat(\n",
        "        'run()',\n",
        "        globals=locals(),\n",
        "        repeat=1,\n",
        "        number=1\n",
        "    )\n",
        "\n",
        "    return print_results(count, results)\n",
        "# ↑テストセットアップ終わり\n",
        "###################################################\n",
        "\n",
        "print('チェック 開始')\n",
        "baseline = search_benchmark(500)\n",
        "for count in (1_000, 2_000, 3_000, 4_000, 5_000):\n",
        "    print()\n",
        "    comparison = search_benchmark(count)\n",
        "    growth, slowdown = print_delta(baseline, comparison)\n",
        "\n",
        "# O(1)以下の計算量でないとエラーになる\n",
        "assert slowdown / growth < 3\n",
        "\n",
        "print('チェック クリア！')"
      ],
      "execution_count": null,
      "outputs": [
        {
          "output_type": "stream",
          "text": [
            "チェック 開始\n",
            "データ量->   500 実計算時間-> 0.001425s\n",
            "\n",
            "データ量-> 1,000 実計算時間-> 0.006195s\n",
            "データ増加量:  2.0　倍, 計算増加量:  4.3　倍\n",
            "\n",
            "データ量-> 2,000 実計算時間-> 0.025780s\n",
            "データ増加量:  4.0　倍, 計算増加量: 18.1　倍\n",
            "\n",
            "データ量-> 3,000 実計算時間-> 0.050060s\n",
            "データ増加量:  6.0　倍, 計算増加量: 35.1　倍\n",
            "\n",
            "データ量-> 4,000 実計算時間-> 0.088067s\n",
            "データ増加量:  8.0　倍, 計算増加量: 61.8　倍\n",
            "\n",
            "データ量-> 5,000 実計算時間-> 0.143790s\n",
            "データ増加量: 10.0　倍, 計算増加量: 100.9　倍\n"
          ],
          "name": "stdout"
        },
        {
          "output_type": "error",
          "ename": "AssertionError",
          "evalue": "ignored",
          "traceback": [
            "\u001b[0;31m---------------------------------------------------------------------------\u001b[0m",
            "\u001b[0;31mAssertionError\u001b[0m                            Traceback (most recent call last)",
            "\u001b[0;32m<ipython-input-8-a087959daf06>\u001b[0m in \u001b[0;36m<module>\u001b[0;34m()\u001b[0m\n\u001b[1;32m     43\u001b[0m \u001b[0;34m\u001b[0m\u001b[0m\n\u001b[1;32m     44\u001b[0m \u001b[0;31m# O(1)以下の計算量でないとエラーになる\u001b[0m\u001b[0;34m\u001b[0m\u001b[0;34m\u001b[0m\u001b[0;34m\u001b[0m\u001b[0m\n\u001b[0;32m---> 45\u001b[0;31m \u001b[0;32massert\u001b[0m \u001b[0mslowdown\u001b[0m \u001b[0;34m/\u001b[0m \u001b[0mgrowth\u001b[0m \u001b[0;34m<\u001b[0m \u001b[0;36m3\u001b[0m\u001b[0;34m\u001b[0m\u001b[0;34m\u001b[0m\u001b[0m\n\u001b[0m\u001b[1;32m     46\u001b[0m \u001b[0;34m\u001b[0m\u001b[0m\n\u001b[1;32m     47\u001b[0m \u001b[0mprint\u001b[0m\u001b[0;34m(\u001b[0m\u001b[0;34m'チェック クリア！'\u001b[0m\u001b[0;34m)\u001b[0m\u001b[0;34m\u001b[0m\u001b[0;34m\u001b[0m\u001b[0m\n",
            "\u001b[0;31mAssertionError\u001b[0m: "
          ]
        }
      ]
    },
    {
      "cell_type": "markdown",
      "metadata": {
        "id": "RmImSRBvL_HD"
      },
      "source": [
        "#### 問5 二分探索アルゴリズムの実装 (プログラミング)\n",
        "\n",
        "---\n",
        "\n",
        "二分探索を行う関数`binary_search`を実装してください。<br>\n",
        "ただし下記の条件を満たすこと。\n",
        "\n",
        "- 解答用セルの`binary_search`関数に付け加える形で実装する。ただし引数を増やしても構わない。\n",
        "- 評価用セルを実行した際にassertionエラーを起こさない。\n",
        "- 評価用セルの内容は書き換えない。実行のみが許可される。"
      ]
    },
    {
      "cell_type": "markdown",
      "metadata": {
        "id": "m-VpAa4g1Rod"
      },
      "source": [
        "##### 解答"
      ]
    },
    {
      "cell_type": "code",
      "metadata": {
        "id": "_nO2WpaH03qr"
      },
      "source": [
        ""
      ],
      "execution_count": null,
      "outputs": []
    },
    {
      "cell_type": "code",
      "metadata": {
        "id": "ftIFxilfL5Cu"
      },
      "source": [
        "# 解答用セル\n",
        "\n",
        "from typing import List\n",
        "\n",
        "def binary_search(li: List[int], target_num: int) -> int:\n",
        "    \"\"\"\n",
        "    配列(li)を受け取り、対象の番号(target_num)が格納されている配列番号を返す\n",
        "\n",
        "    ただし配列は昇順にsortされていることを保証する\n",
        "    \"\"\"\n",
        "\n",
        "    # 以下に実装してください。下記のコードは書き換えても構いません。\n",
        "    \n",
        "    # ↓線形探索のサンプルコード\n",
        "    if target_num in li:\n",
        "        return li.index(target_num)\n",
        "\n",
        "    raise LookupError('対象の数値は配列に存在しません')"
      ],
      "execution_count": null,
      "outputs": []
    },
    {
      "cell_type": "code",
      "metadata": {
        "id": "WsuP3toW04Sx"
      },
      "source": [
        "# 解答例1 \n",
        "from typing import List\n",
        "\n",
        "def binary_search(li: List[int], target_num: int) -> int:\n",
        "    start, end = 0, (len(li) - 1)\n",
        "    while start <= end:\n",
        "        middle = (start + end) // 2\n",
        "        if target_num == li[middle]:\n",
        "            return middle\n",
        "        if target_num < li[middle]:\n",
        "            end = middle - 1\n",
        "        else: # li > arr[middle]\n",
        "            start = middle + 1\n",
        "\n",
        "    raise LookupError('対象の数値は配列に存在しません')"
      ],
      "execution_count": null,
      "outputs": []
    },
    {
      "cell_type": "code",
      "metadata": {
        "id": "PJSArsm11Hvd"
      },
      "source": [
        "# 解答例2\n",
        "# 再帰型\n",
        "from typing import List\n",
        "\n",
        "def binary_search(li: List[int], target_num: int, low=None, high=None) -> int:\n",
        "    if low == None and high == None:\n",
        "        low = 0\n",
        "        high = len(li) - 1\n",
        "\n",
        "    if high >= low: \n",
        "        mid = (high + low) // 2\n",
        "\n",
        "        if li[mid] == target_num: \n",
        "            return mid \n",
        "        elif li[mid] > target_num: \n",
        "            return binary_search(li, target_num, low, mid - 1)   \n",
        "        else: \n",
        "            return binary_search(li, target_num, mid + 1, high) \n",
        "    else: \n",
        "        raise LookupError('対象の数値は配列に存在しません')"
      ],
      "execution_count": null,
      "outputs": []
    },
    {
      "cell_type": "code",
      "metadata": {
        "id": "daTOYJNT3Gez"
      },
      "source": [
        "# 解答例3\n",
        "# Pythonの組み込みモジュールbisectを使う\n",
        "from typing import List\n",
        "import bisect\n",
        "\n",
        "def binary_search(li: List[int], target_num: int) -> int:\n",
        "    return bisect.bisect_left(li, target_num)"
      ],
      "execution_count": null,
      "outputs": []
    },
    {
      "cell_type": "markdown",
      "metadata": {
        "id": "REMe4lV21VcY"
      },
      "source": [
        "##### 採点\n",
        "\n",
        "---\n",
        "\n",
        "解答用セルへの実装が完了したら評価用セルを実行してください"
      ]
    },
    {
      "cell_type": "code",
      "metadata": {
        "id": "vf0yPqRRR5by",
        "colab": {
          "base_uri": "https://localhost:8080/"
        },
        "outputId": "b4db1bc1-7e5a-40bf-bf2c-a2c3499259f5"
      },
      "source": [
        "# 評価用セル\n",
        "# !!!!!!内容は書き換えない!!!!!!\n",
        "\n",
        "###################################################\n",
        "# ↓テストセットアップ1開始\n",
        "import random\n",
        "N = 100\n",
        "\n",
        "# 0 ~ 9999の値からランダムにN個サンプリングして昇順に並べたリストを作成する\n",
        "list_for_search = sorted(random.sample(range(10000),  N))\n",
        "# ↑テストセットアップ1終わり\n",
        "###################################################\n",
        "\n",
        "\n",
        "# チェック1: 意図した結果が帰ってくる\n",
        "print('チェック1 開始')\n",
        "assert binary_search(list_for_search, list_for_search[10]) == 10\n",
        "assert binary_search(list_for_search, list_for_search[50]) == 50\n",
        "print('チェック1 クリア！')\n",
        "\n",
        "# チェック2: 実行時間は基準内であるか\n",
        "\n",
        "###################################################\n",
        "# ↓テストセットアップ2開始\n",
        "import timeit\n",
        "\n",
        "def print_results(count, results):\n",
        "    avg_iteration = sum(results) / len(results)\n",
        "    print(f'データ量-> {count:>5,} 実計算時間-> {avg_iteration:.6f}s')\n",
        "    return count, avg_iteration\n",
        "\n",
        "def print_delta(before, after):\n",
        "    before_count, before_time = before\n",
        "    after_count, after_time = after\n",
        "    growth = 1 + (after_count - before_count) / before_count\n",
        "    slowdown = 1 + (after_time - before_time) / before_time\n",
        "    print(f'データ増加量: {growth:>4.1f}　倍, 計算増加量: {slowdown:4.1f}　倍')\n",
        "\n",
        "    return growth, slowdown\n",
        "\n",
        "def binary_search_benchmark(count):\n",
        "    test_list = sorted(random.sample(range(10_000),  count))\n",
        "    def run(test_list):\n",
        "        for i in test_list:\n",
        "            binary_search(test_list, i)\n",
        "\n",
        "    results = timeit.repeat(\n",
        "        'run(test_list)',\n",
        "        globals=locals(),\n",
        "        repeat=10,\n",
        "        number=1\n",
        "    )\n",
        "\n",
        "    return print_results(count, results)\n",
        "# ↑テストセットアップ2終わり\n",
        "###################################################\n",
        "\n",
        "print('チェック2 開始')\n",
        "baseline = binary_search_benchmark(500)\n",
        "for count in (1_000, 2_000, 3_000, 4_000, 5_000):\n",
        "    print()\n",
        "    comparison = binary_search_benchmark(count)\n",
        "    growth, slowdown = print_delta(baseline, comparison)\n",
        "\n",
        "\n",
        "# O(n)以下の計算量でないとエラーになる\n",
        "assert slowdown/growth < 2\n",
        "print('チェック2 クリア！')\n"
      ],
      "execution_count": null,
      "outputs": [
        {
          "output_type": "stream",
          "text": [
            "チェック1 開始\n",
            "チェック1 クリア！\n",
            "チェック2 開始\n",
            "データ量->   500 実計算時間-> 0.000357s\n",
            "\n",
            "データ量-> 1,000 実計算時間-> 0.000589s\n",
            "データ増加量:  2.0　倍, 計算増加量:  1.7　倍\n",
            "\n",
            "データ量-> 2,000 実計算時間-> 0.001048s\n",
            "データ増加量:  4.0　倍, 計算増加量:  2.9　倍\n",
            "\n",
            "データ量-> 3,000 実計算時間-> 0.001736s\n",
            "データ増加量:  6.0　倍, 計算増加量:  4.9　倍\n",
            "\n",
            "データ量-> 4,000 実計算時間-> 0.002137s\n",
            "データ増加量:  8.0　倍, 計算増加量:  6.0　倍\n",
            "\n",
            "データ量-> 5,000 実計算時間-> 0.003745s\n",
            "データ増加量: 10.0　倍, 計算増加量: 10.5　倍\n",
            "チェック2 クリア！\n"
          ],
          "name": "stdout"
        }
      ]
    },
    {
      "cell_type": "code",
      "metadata": {
        "id": "tSHOId4Pn8W4"
      },
      "source": [
        ""
      ],
      "execution_count": null,
      "outputs": []
    }
  ]
}